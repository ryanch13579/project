{
 "cells": [
  {
   "cell_type": "markdown",
   "id": "f538c47d",
   "metadata": {},
   "source": [
    "# Cardiovascular Disease\n"
   ]
  },
  {
   "cell_type": "code",
   "execution_count": 1,
   "id": "267af14d",
   "metadata": {},
   "outputs": [],
   "source": [
    "import pandas as pd\n",
    "import seaborn as sb\n",
    "from sklearn.model_selection import train_test_split\n",
    "from sklearn.datasets import make_blobs\n",
    "from sklearn.cluster import DBSCAN\n",
    "import numpy as np\n",
    "import matplotlib.pyplot as plt"
   ]
  },
  {
   "cell_type": "code",
   "execution_count": 8,
   "id": "7b7cfe04",
   "metadata": {},
   "outputs": [],
   "source": [
    "cardio = pd.read_csv('cleaned_cardiovascular_data.csv',sep=\",\")\n"
   ]
  },
  {
   "cell_type": "code",
   "execution_count": 9,
   "id": "1877433c",
   "metadata": {},
   "outputs": [
    {
     "data": {
      "text/html": [
       "<div>\n",
       "<style scoped>\n",
       "    .dataframe tbody tr th:only-of-type {\n",
       "        vertical-align: middle;\n",
       "    }\n",
       "\n",
       "    .dataframe tbody tr th {\n",
       "        vertical-align: top;\n",
       "    }\n",
       "\n",
       "    .dataframe thead th {\n",
       "        text-align: right;\n",
       "    }\n",
       "</style>\n",
       "<table border=\"1\" class=\"dataframe\">\n",
       "  <thead>\n",
       "    <tr style=\"text-align: right;\">\n",
       "      <th></th>\n",
       "      <th>age</th>\n",
       "      <th>gender</th>\n",
       "      <th>height</th>\n",
       "      <th>weight</th>\n",
       "      <th>ap_hi</th>\n",
       "      <th>ap_lo</th>\n",
       "      <th>cholesterol</th>\n",
       "      <th>glucose</th>\n",
       "      <th>smoke</th>\n",
       "      <th>alcohol</th>\n",
       "      <th>active</th>\n",
       "      <th>cardio</th>\n",
       "    </tr>\n",
       "  </thead>\n",
       "  <tbody>\n",
       "    <tr>\n",
       "      <th>0</th>\n",
       "      <td>50.0</td>\n",
       "      <td>0</td>\n",
       "      <td>168</td>\n",
       "      <td>62.0</td>\n",
       "      <td>110</td>\n",
       "      <td>80</td>\n",
       "      <td>1</td>\n",
       "      <td>1</td>\n",
       "      <td>0</td>\n",
       "      <td>0</td>\n",
       "      <td>1</td>\n",
       "      <td>0</td>\n",
       "    </tr>\n",
       "    <tr>\n",
       "      <th>1</th>\n",
       "      <td>55.0</td>\n",
       "      <td>1</td>\n",
       "      <td>156</td>\n",
       "      <td>85.0</td>\n",
       "      <td>140</td>\n",
       "      <td>90</td>\n",
       "      <td>3</td>\n",
       "      <td>1</td>\n",
       "      <td>0</td>\n",
       "      <td>0</td>\n",
       "      <td>1</td>\n",
       "      <td>1</td>\n",
       "    </tr>\n",
       "    <tr>\n",
       "      <th>2</th>\n",
       "      <td>52.0</td>\n",
       "      <td>1</td>\n",
       "      <td>165</td>\n",
       "      <td>64.0</td>\n",
       "      <td>130</td>\n",
       "      <td>70</td>\n",
       "      <td>3</td>\n",
       "      <td>1</td>\n",
       "      <td>0</td>\n",
       "      <td>0</td>\n",
       "      <td>0</td>\n",
       "      <td>1</td>\n",
       "    </tr>\n",
       "    <tr>\n",
       "      <th>3</th>\n",
       "      <td>48.0</td>\n",
       "      <td>0</td>\n",
       "      <td>169</td>\n",
       "      <td>82.0</td>\n",
       "      <td>150</td>\n",
       "      <td>100</td>\n",
       "      <td>1</td>\n",
       "      <td>1</td>\n",
       "      <td>0</td>\n",
       "      <td>0</td>\n",
       "      <td>1</td>\n",
       "      <td>1</td>\n",
       "    </tr>\n",
       "    <tr>\n",
       "      <th>4</th>\n",
       "      <td>48.0</td>\n",
       "      <td>1</td>\n",
       "      <td>156</td>\n",
       "      <td>56.0</td>\n",
       "      <td>100</td>\n",
       "      <td>60</td>\n",
       "      <td>1</td>\n",
       "      <td>1</td>\n",
       "      <td>0</td>\n",
       "      <td>0</td>\n",
       "      <td>0</td>\n",
       "      <td>0</td>\n",
       "    </tr>\n",
       "  </tbody>\n",
       "</table>\n",
       "</div>"
      ],
      "text/plain": [
       "    age  gender  height  weight  ap_hi  ap_lo  cholesterol  glucose  smoke  \\\n",
       "0  50.0       0     168    62.0    110     80            1        1      0   \n",
       "1  55.0       1     156    85.0    140     90            3        1      0   \n",
       "2  52.0       1     165    64.0    130     70            3        1      0   \n",
       "3  48.0       0     169    82.0    150    100            1        1      0   \n",
       "4  48.0       1     156    56.0    100     60            1        1      0   \n",
       "\n",
       "   alcohol  active  cardio  \n",
       "0        0       1       0  \n",
       "1        0       1       1  \n",
       "2        0       0       1  \n",
       "3        0       1       1  \n",
       "4        0       0       0  "
      ]
     },
     "execution_count": 9,
     "metadata": {},
     "output_type": "execute_result"
    }
   ],
   "source": [
    "cardio.head()"
   ]
  },
  {
   "cell_type": "code",
   "execution_count": 10,
   "id": "a687e56e",
   "metadata": {},
   "outputs": [
    {
     "data": {
      "text/html": [
       "<div>\n",
       "<style scoped>\n",
       "    .dataframe tbody tr th:only-of-type {\n",
       "        vertical-align: middle;\n",
       "    }\n",
       "\n",
       "    .dataframe tbody tr th {\n",
       "        vertical-align: top;\n",
       "    }\n",
       "\n",
       "    .dataframe thead th {\n",
       "        text-align: right;\n",
       "    }\n",
       "</style>\n",
       "<table border=\"1\" class=\"dataframe\">\n",
       "  <thead>\n",
       "    <tr style=\"text-align: right;\">\n",
       "      <th></th>\n",
       "      <th>age</th>\n",
       "      <th>gender</th>\n",
       "      <th>height</th>\n",
       "      <th>weight</th>\n",
       "      <th>ap_hi</th>\n",
       "      <th>ap_lo</th>\n",
       "      <th>cholesterol</th>\n",
       "      <th>glucose</th>\n",
       "      <th>smoke</th>\n",
       "      <th>alcohol</th>\n",
       "      <th>active</th>\n",
       "    </tr>\n",
       "  </thead>\n",
       "  <tbody>\n",
       "    <tr>\n",
       "      <th>0</th>\n",
       "      <td>50.0</td>\n",
       "      <td>0</td>\n",
       "      <td>168</td>\n",
       "      <td>62.0</td>\n",
       "      <td>110</td>\n",
       "      <td>80</td>\n",
       "      <td>1</td>\n",
       "      <td>1</td>\n",
       "      <td>0</td>\n",
       "      <td>0</td>\n",
       "      <td>1</td>\n",
       "    </tr>\n",
       "    <tr>\n",
       "      <th>1</th>\n",
       "      <td>55.0</td>\n",
       "      <td>1</td>\n",
       "      <td>156</td>\n",
       "      <td>85.0</td>\n",
       "      <td>140</td>\n",
       "      <td>90</td>\n",
       "      <td>3</td>\n",
       "      <td>1</td>\n",
       "      <td>0</td>\n",
       "      <td>0</td>\n",
       "      <td>1</td>\n",
       "    </tr>\n",
       "    <tr>\n",
       "      <th>2</th>\n",
       "      <td>52.0</td>\n",
       "      <td>1</td>\n",
       "      <td>165</td>\n",
       "      <td>64.0</td>\n",
       "      <td>130</td>\n",
       "      <td>70</td>\n",
       "      <td>3</td>\n",
       "      <td>1</td>\n",
       "      <td>0</td>\n",
       "      <td>0</td>\n",
       "      <td>0</td>\n",
       "    </tr>\n",
       "    <tr>\n",
       "      <th>3</th>\n",
       "      <td>48.0</td>\n",
       "      <td>0</td>\n",
       "      <td>169</td>\n",
       "      <td>82.0</td>\n",
       "      <td>150</td>\n",
       "      <td>100</td>\n",
       "      <td>1</td>\n",
       "      <td>1</td>\n",
       "      <td>0</td>\n",
       "      <td>0</td>\n",
       "      <td>1</td>\n",
       "    </tr>\n",
       "    <tr>\n",
       "      <th>4</th>\n",
       "      <td>48.0</td>\n",
       "      <td>1</td>\n",
       "      <td>156</td>\n",
       "      <td>56.0</td>\n",
       "      <td>100</td>\n",
       "      <td>60</td>\n",
       "      <td>1</td>\n",
       "      <td>1</td>\n",
       "      <td>0</td>\n",
       "      <td>0</td>\n",
       "      <td>0</td>\n",
       "    </tr>\n",
       "  </tbody>\n",
       "</table>\n",
       "</div>"
      ],
      "text/plain": [
       "    age  gender  height  weight  ap_hi  ap_lo  cholesterol  glucose  smoke  \\\n",
       "0  50.0       0     168    62.0    110     80            1        1      0   \n",
       "1  55.0       1     156    85.0    140     90            3        1      0   \n",
       "2  52.0       1     165    64.0    130     70            3        1      0   \n",
       "3  48.0       0     169    82.0    150    100            1        1      0   \n",
       "4  48.0       1     156    56.0    100     60            1        1      0   \n",
       "\n",
       "   alcohol  active  \n",
       "0        0       1  \n",
       "1        0       1  \n",
       "2        0       0  \n",
       "3        0       1  \n",
       "4        0       0  "
      ]
     },
     "execution_count": 10,
     "metadata": {},
     "output_type": "execute_result"
    }
   ],
   "source": [
    "#inputs\n",
    "inputs = cardio.drop(columns=['cardio'])\n",
    "inputs.head()"
   ]
  },
  {
   "cell_type": "code",
   "execution_count": 11,
   "id": "70682f0d",
   "metadata": {},
   "outputs": [
    {
     "data": {
      "text/plain": [
       "0    0\n",
       "1    1\n",
       "2    1\n",
       "3    1\n",
       "4    0\n",
       "Name: cardio, dtype: int64"
      ]
     },
     "execution_count": 11,
     "metadata": {},
     "output_type": "execute_result"
    }
   ],
   "source": [
    "#outputs\n",
    "output = cardio['cardio']\n",
    "output.head()"
   ]
  },
  {
   "cell_type": "markdown",
   "id": "fb7b3e8b",
   "metadata": {},
   "source": [
    "### Splitting dataset into train and test "
   ]
  },
  {
   "cell_type": "code",
   "execution_count": 19,
   "id": "5db680e6",
   "metadata": {},
   "outputs": [],
   "source": [
    "x_train, x_test, y_train, y_test = train_test_split(inputs, output, test_size = 0.25)"
   ]
  },
  {
   "cell_type": "code",
   "execution_count": 20,
   "id": "244d6ad4",
   "metadata": {},
   "outputs": [
    {
     "data": {
      "text/html": [
       "<div>\n",
       "<style scoped>\n",
       "    .dataframe tbody tr th:only-of-type {\n",
       "        vertical-align: middle;\n",
       "    }\n",
       "\n",
       "    .dataframe tbody tr th {\n",
       "        vertical-align: top;\n",
       "    }\n",
       "\n",
       "    .dataframe thead th {\n",
       "        text-align: right;\n",
       "    }\n",
       "</style>\n",
       "<table border=\"1\" class=\"dataframe\">\n",
       "  <thead>\n",
       "    <tr style=\"text-align: right;\">\n",
       "      <th></th>\n",
       "      <th>age</th>\n",
       "      <th>gender</th>\n",
       "      <th>height</th>\n",
       "      <th>weight</th>\n",
       "      <th>ap_hi</th>\n",
       "      <th>ap_lo</th>\n",
       "      <th>cholesterol</th>\n",
       "      <th>gluc</th>\n",
       "      <th>smoke</th>\n",
       "      <th>alco</th>\n",
       "      <th>active</th>\n",
       "    </tr>\n",
       "  </thead>\n",
       "  <tbody>\n",
       "    <tr>\n",
       "      <th>69247</th>\n",
       "      <td>62.0</td>\n",
       "      <td>1</td>\n",
       "      <td>167</td>\n",
       "      <td>86.0</td>\n",
       "      <td>130</td>\n",
       "      <td>70</td>\n",
       "      <td>1</td>\n",
       "      <td>1</td>\n",
       "      <td>0</td>\n",
       "      <td>0</td>\n",
       "      <td>0</td>\n",
       "    </tr>\n",
       "    <tr>\n",
       "      <th>15899</th>\n",
       "      <td>62.0</td>\n",
       "      <td>1</td>\n",
       "      <td>165</td>\n",
       "      <td>66.0</td>\n",
       "      <td>145</td>\n",
       "      <td>90</td>\n",
       "      <td>1</td>\n",
       "      <td>1</td>\n",
       "      <td>0</td>\n",
       "      <td>0</td>\n",
       "      <td>1</td>\n",
       "    </tr>\n",
       "    <tr>\n",
       "      <th>5230</th>\n",
       "      <td>62.0</td>\n",
       "      <td>0</td>\n",
       "      <td>172</td>\n",
       "      <td>86.0</td>\n",
       "      <td>130</td>\n",
       "      <td>90</td>\n",
       "      <td>2</td>\n",
       "      <td>1</td>\n",
       "      <td>1</td>\n",
       "      <td>0</td>\n",
       "      <td>1</td>\n",
       "    </tr>\n",
       "    <tr>\n",
       "      <th>63163</th>\n",
       "      <td>48.0</td>\n",
       "      <td>1</td>\n",
       "      <td>164</td>\n",
       "      <td>80.0</td>\n",
       "      <td>130</td>\n",
       "      <td>90</td>\n",
       "      <td>3</td>\n",
       "      <td>1</td>\n",
       "      <td>0</td>\n",
       "      <td>0</td>\n",
       "      <td>1</td>\n",
       "    </tr>\n",
       "    <tr>\n",
       "      <th>30021</th>\n",
       "      <td>51.0</td>\n",
       "      <td>1</td>\n",
       "      <td>167</td>\n",
       "      <td>59.0</td>\n",
       "      <td>120</td>\n",
       "      <td>70</td>\n",
       "      <td>3</td>\n",
       "      <td>3</td>\n",
       "      <td>0</td>\n",
       "      <td>0</td>\n",
       "      <td>1</td>\n",
       "    </tr>\n",
       "  </tbody>\n",
       "</table>\n",
       "</div>"
      ],
      "text/plain": [
       "        age  gender  height  weight  ap_hi  ap_lo  cholesterol  gluc  smoke  \\\n",
       "69247  62.0       1     167    86.0    130     70            1     1      0   \n",
       "15899  62.0       1     165    66.0    145     90            1     1      0   \n",
       "5230   62.0       0     172    86.0    130     90            2     1      1   \n",
       "63163  48.0       1     164    80.0    130     90            3     1      0   \n",
       "30021  51.0       1     167    59.0    120     70            3     3      0   \n",
       "\n",
       "       alco  active  \n",
       "69247     0       0  \n",
       "15899     0       1  \n",
       "5230      0       1  \n",
       "63163     0       1  \n",
       "30021     0       1  "
      ]
     },
     "execution_count": 20,
     "metadata": {},
     "output_type": "execute_result"
    }
   ],
   "source": [
    "x_train = pd.DataFrame(x_train)\n",
    "x_train.head()"
   ]
  },
  {
   "cell_type": "markdown",
   "id": "858233aa",
   "metadata": {},
   "source": [
    "### Removing indexes for train and test datasets, and converting it into a sequential order "
   ]
  },
  {
   "cell_type": "code",
   "execution_count": 21,
   "id": "4e92a616",
   "metadata": {},
   "outputs": [
    {
     "name": "stderr",
     "output_type": "stream",
     "text": [
      "C:\\Users\\ryanc\\AppData\\Local\\Temp\\ipykernel_5920\\2291824756.py:8: FutureWarning: save is not part of the public API, usage can give unexpected results and will be removed in a future version\n",
      "  datatoexcel.save()\n"
     ]
    },
    {
     "name": "stdout",
     "output_type": "stream",
     "text": [
      "DataFrame is written to Excel File successfully.\n"
     ]
    }
   ],
   "source": [
    "# writing to Excel\n",
    "datatoexcel = pd.ExcelWriter('xtrain1.xlsx')\n",
    "  \n",
    "# write DataFrame to excel\n",
    "x_train.to_excel(datatoexcel)\n",
    "  \n",
    "# save the excel\n",
    "datatoexcel.save()\n",
    "print('DataFrame is written to Excel File successfully.')"
   ]
  },
  {
   "cell_type": "code",
   "execution_count": 22,
   "id": "afb51c16",
   "metadata": {},
   "outputs": [
    {
     "data": {
      "text/html": [
       "<div>\n",
       "<style scoped>\n",
       "    .dataframe tbody tr th:only-of-type {\n",
       "        vertical-align: middle;\n",
       "    }\n",
       "\n",
       "    .dataframe tbody tr th {\n",
       "        vertical-align: top;\n",
       "    }\n",
       "\n",
       "    .dataframe thead th {\n",
       "        text-align: right;\n",
       "    }\n",
       "</style>\n",
       "<table border=\"1\" class=\"dataframe\">\n",
       "  <thead>\n",
       "    <tr style=\"text-align: right;\">\n",
       "      <th></th>\n",
       "      <th>age</th>\n",
       "      <th>gender</th>\n",
       "      <th>height</th>\n",
       "      <th>weight</th>\n",
       "      <th>ap_hi</th>\n",
       "      <th>ap_lo</th>\n",
       "      <th>cholesterol</th>\n",
       "      <th>gluc</th>\n",
       "      <th>smoke</th>\n",
       "      <th>alco</th>\n",
       "      <th>active</th>\n",
       "    </tr>\n",
       "  </thead>\n",
       "  <tbody>\n",
       "    <tr>\n",
       "      <th>0</th>\n",
       "      <td>62</td>\n",
       "      <td>1</td>\n",
       "      <td>167</td>\n",
       "      <td>86.0</td>\n",
       "      <td>130</td>\n",
       "      <td>70</td>\n",
       "      <td>1</td>\n",
       "      <td>1</td>\n",
       "      <td>0</td>\n",
       "      <td>0</td>\n",
       "      <td>0</td>\n",
       "    </tr>\n",
       "    <tr>\n",
       "      <th>1</th>\n",
       "      <td>62</td>\n",
       "      <td>1</td>\n",
       "      <td>165</td>\n",
       "      <td>66.0</td>\n",
       "      <td>145</td>\n",
       "      <td>90</td>\n",
       "      <td>1</td>\n",
       "      <td>1</td>\n",
       "      <td>0</td>\n",
       "      <td>0</td>\n",
       "      <td>1</td>\n",
       "    </tr>\n",
       "    <tr>\n",
       "      <th>2</th>\n",
       "      <td>62</td>\n",
       "      <td>0</td>\n",
       "      <td>172</td>\n",
       "      <td>86.0</td>\n",
       "      <td>130</td>\n",
       "      <td>90</td>\n",
       "      <td>2</td>\n",
       "      <td>1</td>\n",
       "      <td>1</td>\n",
       "      <td>0</td>\n",
       "      <td>1</td>\n",
       "    </tr>\n",
       "    <tr>\n",
       "      <th>3</th>\n",
       "      <td>48</td>\n",
       "      <td>1</td>\n",
       "      <td>164</td>\n",
       "      <td>80.0</td>\n",
       "      <td>130</td>\n",
       "      <td>90</td>\n",
       "      <td>3</td>\n",
       "      <td>1</td>\n",
       "      <td>0</td>\n",
       "      <td>0</td>\n",
       "      <td>1</td>\n",
       "    </tr>\n",
       "    <tr>\n",
       "      <th>4</th>\n",
       "      <td>51</td>\n",
       "      <td>1</td>\n",
       "      <td>167</td>\n",
       "      <td>59.0</td>\n",
       "      <td>120</td>\n",
       "      <td>70</td>\n",
       "      <td>3</td>\n",
       "      <td>3</td>\n",
       "      <td>0</td>\n",
       "      <td>0</td>\n",
       "      <td>1</td>\n",
       "    </tr>\n",
       "  </tbody>\n",
       "</table>\n",
       "</div>"
      ],
      "text/plain": [
       "   age  gender  height  weight  ap_hi  ap_lo  cholesterol  gluc  smoke  alco  \\\n",
       "0   62       1     167    86.0    130     70            1     1      0     0   \n",
       "1   62       1     165    66.0    145     90            1     1      0     0   \n",
       "2   62       0     172    86.0    130     90            2     1      1     0   \n",
       "3   48       1     164    80.0    130     90            3     1      0     0   \n",
       "4   51       1     167    59.0    120     70            3     3      0     0   \n",
       "\n",
       "   active  \n",
       "0       0  \n",
       "1       1  \n",
       "2       1  \n",
       "3       1  \n",
       "4       1  "
      ]
     },
     "execution_count": 22,
     "metadata": {},
     "output_type": "execute_result"
    }
   ],
   "source": [
    "train1 = pd.read_excel('xtrain1.xlsx')\n",
    "x_train1 = train1.drop(columns=['Unnamed: 0'])\n",
    "\n",
    "x_train1.head()"
   ]
  },
  {
   "cell_type": "code",
   "execution_count": 23,
   "id": "3c3faf0e",
   "metadata": {},
   "outputs": [
    {
     "name": "stderr",
     "output_type": "stream",
     "text": [
      "C:\\Users\\ryanc\\AppData\\Local\\Temp\\ipykernel_5920\\1559829482.py:8: FutureWarning: save is not part of the public API, usage can give unexpected results and will be removed in a future version\n",
      "  datatoexcel2.save()\n"
     ]
    },
    {
     "name": "stdout",
     "output_type": "stream",
     "text": [
      "DataFrame is written to Excel File successfully.\n"
     ]
    }
   ],
   "source": [
    "# writing to Excel\n",
    "datatoexcel2 = pd.ExcelWriter('xtest1.xlsx')\n",
    "  \n",
    "# write DataFrame to excel\n",
    "x_test.to_excel(datatoexcel2)\n",
    "  \n",
    "# save the excel\n",
    "datatoexcel2.save()\n",
    "print('DataFrame is written to Excel File successfully.')"
   ]
  },
  {
   "cell_type": "code",
   "execution_count": 24,
   "id": "b0d4c9ef",
   "metadata": {},
   "outputs": [
    {
     "data": {
      "text/html": [
       "<div>\n",
       "<style scoped>\n",
       "    .dataframe tbody tr th:only-of-type {\n",
       "        vertical-align: middle;\n",
       "    }\n",
       "\n",
       "    .dataframe tbody tr th {\n",
       "        vertical-align: top;\n",
       "    }\n",
       "\n",
       "    .dataframe thead th {\n",
       "        text-align: right;\n",
       "    }\n",
       "</style>\n",
       "<table border=\"1\" class=\"dataframe\">\n",
       "  <thead>\n",
       "    <tr style=\"text-align: right;\">\n",
       "      <th></th>\n",
       "      <th>age</th>\n",
       "      <th>gender</th>\n",
       "      <th>height</th>\n",
       "      <th>weight</th>\n",
       "      <th>ap_hi</th>\n",
       "      <th>ap_lo</th>\n",
       "      <th>cholesterol</th>\n",
       "      <th>gluc</th>\n",
       "      <th>smoke</th>\n",
       "      <th>alco</th>\n",
       "      <th>active</th>\n",
       "    </tr>\n",
       "  </thead>\n",
       "  <tbody>\n",
       "    <tr>\n",
       "      <th>0</th>\n",
       "      <td>59</td>\n",
       "      <td>0</td>\n",
       "      <td>184</td>\n",
       "      <td>90.0</td>\n",
       "      <td>130</td>\n",
       "      <td>80</td>\n",
       "      <td>3</td>\n",
       "      <td>2</td>\n",
       "      <td>1</td>\n",
       "      <td>0</td>\n",
       "      <td>1</td>\n",
       "    </tr>\n",
       "    <tr>\n",
       "      <th>1</th>\n",
       "      <td>40</td>\n",
       "      <td>0</td>\n",
       "      <td>180</td>\n",
       "      <td>70.0</td>\n",
       "      <td>110</td>\n",
       "      <td>80</td>\n",
       "      <td>1</td>\n",
       "      <td>1</td>\n",
       "      <td>0</td>\n",
       "      <td>0</td>\n",
       "      <td>1</td>\n",
       "    </tr>\n",
       "    <tr>\n",
       "      <th>2</th>\n",
       "      <td>45</td>\n",
       "      <td>1</td>\n",
       "      <td>168</td>\n",
       "      <td>68.0</td>\n",
       "      <td>120</td>\n",
       "      <td>80</td>\n",
       "      <td>1</td>\n",
       "      <td>1</td>\n",
       "      <td>0</td>\n",
       "      <td>0</td>\n",
       "      <td>1</td>\n",
       "    </tr>\n",
       "    <tr>\n",
       "      <th>3</th>\n",
       "      <td>58</td>\n",
       "      <td>0</td>\n",
       "      <td>171</td>\n",
       "      <td>77.0</td>\n",
       "      <td>120</td>\n",
       "      <td>80</td>\n",
       "      <td>1</td>\n",
       "      <td>1</td>\n",
       "      <td>0</td>\n",
       "      <td>0</td>\n",
       "      <td>1</td>\n",
       "    </tr>\n",
       "    <tr>\n",
       "      <th>4</th>\n",
       "      <td>50</td>\n",
       "      <td>1</td>\n",
       "      <td>152</td>\n",
       "      <td>64.0</td>\n",
       "      <td>130</td>\n",
       "      <td>80</td>\n",
       "      <td>1</td>\n",
       "      <td>1</td>\n",
       "      <td>0</td>\n",
       "      <td>0</td>\n",
       "      <td>0</td>\n",
       "    </tr>\n",
       "  </tbody>\n",
       "</table>\n",
       "</div>"
      ],
      "text/plain": [
       "   age  gender  height  weight  ap_hi  ap_lo  cholesterol  gluc  smoke  alco  \\\n",
       "0   59       0     184    90.0    130     80            3     2      1     0   \n",
       "1   40       0     180    70.0    110     80            1     1      0     0   \n",
       "2   45       1     168    68.0    120     80            1     1      0     0   \n",
       "3   58       0     171    77.0    120     80            1     1      0     0   \n",
       "4   50       1     152    64.0    130     80            1     1      0     0   \n",
       "\n",
       "   active  \n",
       "0       1  \n",
       "1       1  \n",
       "2       1  \n",
       "3       1  \n",
       "4       0  "
      ]
     },
     "execution_count": 24,
     "metadata": {},
     "output_type": "execute_result"
    }
   ],
   "source": [
    "test1 = pd.read_excel('xtest1.xlsx')\n",
    "x_test1 = test1.drop(columns=['Unnamed: 0'])\n",
    "\n",
    "x_test1.head()"
   ]
  },
  {
   "cell_type": "code",
   "execution_count": 25,
   "id": "788f764d",
   "metadata": {},
   "outputs": [
    {
     "name": "stderr",
     "output_type": "stream",
     "text": [
      "C:\\Users\\ryanc\\AppData\\Local\\Temp\\ipykernel_5920\\944968317.py:8: FutureWarning: save is not part of the public API, usage can give unexpected results and will be removed in a future version\n",
      "  datatoexcel3.save()\n"
     ]
    },
    {
     "name": "stdout",
     "output_type": "stream",
     "text": [
      "DataFrame is written to Excel File successfully.\n"
     ]
    }
   ],
   "source": [
    "# writing to Excel\n",
    "datatoexcel3 = pd.ExcelWriter('ytrain1.xlsx')\n",
    "  \n",
    "# write DataFrame to excel\n",
    "y_train.to_excel(datatoexcel3)\n",
    "  \n",
    "# save the excel\n",
    "datatoexcel3.save()\n",
    "print('DataFrame is written to Excel File successfully.')"
   ]
  },
  {
   "cell_type": "code",
   "execution_count": 26,
   "id": "6e55610e",
   "metadata": {},
   "outputs": [
    {
     "data": {
      "text/html": [
       "<div>\n",
       "<style scoped>\n",
       "    .dataframe tbody tr th:only-of-type {\n",
       "        vertical-align: middle;\n",
       "    }\n",
       "\n",
       "    .dataframe tbody tr th {\n",
       "        vertical-align: top;\n",
       "    }\n",
       "\n",
       "    .dataframe thead th {\n",
       "        text-align: right;\n",
       "    }\n",
       "</style>\n",
       "<table border=\"1\" class=\"dataframe\">\n",
       "  <thead>\n",
       "    <tr style=\"text-align: right;\">\n",
       "      <th></th>\n",
       "      <th>cardio</th>\n",
       "    </tr>\n",
       "  </thead>\n",
       "  <tbody>\n",
       "    <tr>\n",
       "      <th>0</th>\n",
       "      <td>1</td>\n",
       "    </tr>\n",
       "    <tr>\n",
       "      <th>1</th>\n",
       "      <td>1</td>\n",
       "    </tr>\n",
       "    <tr>\n",
       "      <th>2</th>\n",
       "      <td>0</td>\n",
       "    </tr>\n",
       "    <tr>\n",
       "      <th>3</th>\n",
       "      <td>1</td>\n",
       "    </tr>\n",
       "    <tr>\n",
       "      <th>4</th>\n",
       "      <td>1</td>\n",
       "    </tr>\n",
       "  </tbody>\n",
       "</table>\n",
       "</div>"
      ],
      "text/plain": [
       "   cardio\n",
       "0       1\n",
       "1       1\n",
       "2       0\n",
       "3       1\n",
       "4       1"
      ]
     },
     "execution_count": 26,
     "metadata": {},
     "output_type": "execute_result"
    }
   ],
   "source": [
    "ytrain1 = pd.read_excel('ytrain1.xlsx')\n",
    "y_train1 = ytrain1.drop(columns=['Unnamed: 0'])\n",
    "\n",
    "y_train1.head()"
   ]
  },
  {
   "cell_type": "markdown",
   "id": "b1f7d1e0",
   "metadata": {},
   "source": [
    "### Checking balance of cardiovascular disease for train dataset "
   ]
  },
  {
   "cell_type": "code",
   "execution_count": 27,
   "id": "6eec863a",
   "metadata": {},
   "outputs": [
    {
     "data": {
      "text/plain": [
       "cardio\n",
       "0         25154\n",
       "1         24490\n",
       "dtype: int64"
      ]
     },
     "execution_count": 27,
     "metadata": {},
     "output_type": "execute_result"
    }
   ],
   "source": [
    "y_traindf = y_train1.value_counts()\n",
    "\n",
    "y_traindf.head()"
   ]
  },
  {
   "cell_type": "code",
   "execution_count": 28,
   "id": "3cc98b10",
   "metadata": {},
   "outputs": [
    {
     "name": "stdout",
     "output_type": "stream",
     "text": [
      "DataFrame is written to Excel File successfully.\n"
     ]
    }
   ],
   "source": [
    "# writing to Excel\n",
    "#datatoexcel4 = pd.ExcelWriter('ytest1.xlsx')\n",
    "  \n",
    "# write DataFrame to excel\n",
    "y_test.to_excel('ytest1.xlsx', sheet_name=\"Sheet_1\")\n",
    "  \n",
    "print('DataFrame is written to Excel File successfully.')\n"
   ]
  },
  {
   "cell_type": "markdown",
   "id": "69d22acb",
   "metadata": {},
   "source": [
    "### Checking cardiovascular test dataset "
   ]
  },
  {
   "cell_type": "code",
   "execution_count": 29,
   "id": "4ec7a729",
   "metadata": {},
   "outputs": [
    {
     "data": {
      "text/html": [
       "<div>\n",
       "<style scoped>\n",
       "    .dataframe tbody tr th:only-of-type {\n",
       "        vertical-align: middle;\n",
       "    }\n",
       "\n",
       "    .dataframe tbody tr th {\n",
       "        vertical-align: top;\n",
       "    }\n",
       "\n",
       "    .dataframe thead th {\n",
       "        text-align: right;\n",
       "    }\n",
       "</style>\n",
       "<table border=\"1\" class=\"dataframe\">\n",
       "  <thead>\n",
       "    <tr style=\"text-align: right;\">\n",
       "      <th></th>\n",
       "      <th>cardio</th>\n",
       "    </tr>\n",
       "  </thead>\n",
       "  <tbody>\n",
       "    <tr>\n",
       "      <th>0</th>\n",
       "      <td>0</td>\n",
       "    </tr>\n",
       "    <tr>\n",
       "      <th>1</th>\n",
       "      <td>0</td>\n",
       "    </tr>\n",
       "    <tr>\n",
       "      <th>2</th>\n",
       "      <td>0</td>\n",
       "    </tr>\n",
       "    <tr>\n",
       "      <th>3</th>\n",
       "      <td>0</td>\n",
       "    </tr>\n",
       "    <tr>\n",
       "      <th>4</th>\n",
       "      <td>0</td>\n",
       "    </tr>\n",
       "  </tbody>\n",
       "</table>\n",
       "</div>"
      ],
      "text/plain": [
       "   cardio\n",
       "0       0\n",
       "1       0\n",
       "2       0\n",
       "3       0\n",
       "4       0"
      ]
     },
     "execution_count": 29,
     "metadata": {},
     "output_type": "execute_result"
    }
   ],
   "source": [
    "ytest1 = pd.read_excel('ytest1.xlsx')\n",
    "y_test1 = ytest1.drop(columns=['Unnamed: 0'])\n",
    "\n",
    "y_test1.head()"
   ]
  },
  {
   "cell_type": "markdown",
   "id": "3958c584",
   "metadata": {},
   "source": [
    "### Checking balance of cardiovascular disease for train dataset "
   ]
  },
  {
   "cell_type": "code",
   "execution_count": 30,
   "id": "5cd2a77d",
   "metadata": {},
   "outputs": [
    {
     "data": {
      "text/plain": [
       "cardio\n",
       "0         8413\n",
       "1         8136\n",
       "dtype: int64"
      ]
     },
     "execution_count": 30,
     "metadata": {},
     "output_type": "execute_result"
    }
   ],
   "source": [
    "y_testdf = y_test1.value_counts()\n",
    "\n",
    "y_testdf.head()"
   ]
  },
  {
   "cell_type": "markdown",
   "id": "66210abb",
   "metadata": {},
   "source": [
    "### Using Keras to define a Neural network that will be trained off of the test dataset. This Neural Network can then be used to predict future values for cardiovascular disease.\n",
    "\n"
   ]
  },
  {
   "cell_type": "code",
   "execution_count": 31,
   "id": "53d98072",
   "metadata": {},
   "outputs": [
    {
     "name": "stdout",
     "output_type": "stream",
     "text": [
      "Model: \"sequential\"\n",
      "_________________________________________________________________\n",
      " Layer (type)                Output Shape              Param #   \n",
      "=================================================================\n",
      " dense (Dense)               (None, 25)                300       \n",
      "                                                                 \n",
      " dense_1 (Dense)             (None, 5)                 130       \n",
      "                                                                 \n",
      " dense_2 (Dense)             (None, 3)                 18        \n",
      "                                                                 \n",
      " dense_3 (Dense)             (None, 1)                 4         \n",
      "                                                                 \n",
      "=================================================================\n",
      "Total params: 452\n",
      "Trainable params: 452\n",
      "Non-trainable params: 0\n",
      "_________________________________________________________________\n"
     ]
    }
   ],
   "source": [
    "#https://www.youtube.com/watch?v=_VTtrSDHPwU&list=PLQY2H8rRoyvyK5aEDAI3wUUqC_F0oEroL&index=15\n",
    "\n",
    "from keras.models import Sequential\n",
    "from keras.layers import Dense\n",
    "\n",
    "classifier = Sequential() # Initialising the ANN\n",
    "\n",
    "classifier.add(Dense(units = 25, activation = 'softsign', input_dim = 11))\n",
    "classifier.add(Dense(units = 5, activation = 'softsign'))\n",
    "classifier.add(Dense(units = 3, activation = 'softsign'))\n",
    "classifier.add(Dense(units = 1, activation = 'sigmoid'))\n",
    "\n",
    "classifier.summary()"
   ]
  },
  {
   "cell_type": "markdown",
   "id": "211e031e",
   "metadata": {},
   "source": [
    "### Once the Neural Network is defined, now I will specify is the optimizer and loss function\n",
    "\n"
   ]
  },
  {
   "cell_type": "code",
   "execution_count": 32,
   "id": "e3d609c6",
   "metadata": {
    "scrolled": true
   },
   "outputs": [
    {
     "name": "stderr",
     "output_type": "stream",
     "text": [
      "C:\\Users\\ryanc\\anaconda3\\envs\\tf\\lib\\site-packages\\keras\\optimizers\\optimizer_v2\\adam.py:114: UserWarning: The `lr` argument is deprecated, use `learning_rate` instead.\n",
      "  super().__init__(name, **kwargs)\n"
     ]
    }
   ],
   "source": [
    "from sklearn import metrics   # Allows us to view accuracy and other such values\n",
    "from keras import optimizers\n",
    "opt = optimizers.Adam(lr=0.001)\n",
    "classifier.compile(loss='binary_crossentropy', optimizer=opt, metrics=['accuracy'])"
   ]
  },
  {
   "cell_type": "markdown",
   "id": "07532759",
   "metadata": {},
   "source": [
    "### Now the neural network will train using Classifier.fit, passing it the training data. The NN will then spot the patterns in the data, and build a neural network that could replicate that. It will do it a 100 times.\n",
    "\n"
   ]
  },
  {
   "cell_type": "code",
   "execution_count": 33,
   "id": "57edb907",
   "metadata": {},
   "outputs": [
    {
     "name": "stdout",
     "output_type": "stream",
     "text": [
      "Epoch 1/100\n",
      "49644/49644 [==============================] - 95s 2ms/step - loss: 0.6156 - accuracy: 0.6710 - val_loss: 0.5914 - val_accuracy: 0.6970\n",
      "Epoch 2/100\n",
      "49644/49644 [==============================] - 114s 2ms/step - loss: 0.5992 - accuracy: 0.6886 - val_loss: 0.6039 - val_accuracy: 0.6872\n",
      "Epoch 3/100\n",
      "49644/49644 [==============================] - 110s 2ms/step - loss: 0.5945 - accuracy: 0.6919 - val_loss: 0.5860 - val_accuracy: 0.7034\n",
      "Epoch 4/100\n",
      "49644/49644 [==============================] - 121s 2ms/step - loss: 0.5919 - accuracy: 0.6947 - val_loss: 0.5825 - val_accuracy: 0.7034\n",
      "Epoch 5/100\n",
      "49644/49644 [==============================] - 121s 2ms/step - loss: 0.5900 - accuracy: 0.6969 - val_loss: 0.5831 - val_accuracy: 0.7040\n",
      "Epoch 6/100\n",
      "49644/49644 [==============================] - 125s 3ms/step - loss: 0.5868 - accuracy: 0.7001 - val_loss: 0.5789 - val_accuracy: 0.7055\n",
      "Epoch 7/100\n",
      "49644/49644 [==============================] - 128s 3ms/step - loss: 0.5854 - accuracy: 0.6999 - val_loss: 0.5932 - val_accuracy: 0.7069\n",
      "Epoch 8/100\n",
      "49644/49644 [==============================] - 125s 3ms/step - loss: 0.5856 - accuracy: 0.7005 - val_loss: 0.5959 - val_accuracy: 0.6943\n",
      "Epoch 9/100\n",
      "49644/49644 [==============================] - 122s 2ms/step - loss: 0.5844 - accuracy: 0.7020 - val_loss: 0.5799 - val_accuracy: 0.7031\n",
      "Epoch 10/100\n",
      "49644/49644 [==============================] - 123s 2ms/step - loss: 0.5838 - accuracy: 0.7002 - val_loss: 0.5841 - val_accuracy: 0.7014\n",
      "Epoch 11/100\n",
      "49644/49644 [==============================] - 123s 2ms/step - loss: 0.5838 - accuracy: 0.6999 - val_loss: 0.5823 - val_accuracy: 0.6985\n",
      "Epoch 12/100\n",
      "49644/49644 [==============================] - 125s 3ms/step - loss: 0.5837 - accuracy: 0.7003 - val_loss: 0.5791 - val_accuracy: 0.7110\n",
      "Epoch 13/100\n",
      "49644/49644 [==============================] - 131s 3ms/step - loss: 0.5829 - accuracy: 0.7017 - val_loss: 0.5817 - val_accuracy: 0.7141\n",
      "Epoch 14/100\n",
      "49644/49644 [==============================] - 125s 3ms/step - loss: 0.5827 - accuracy: 0.7010 - val_loss: 0.5803 - val_accuracy: 0.7070\n",
      "Epoch 15/100\n",
      "49644/49644 [==============================] - 126s 3ms/step - loss: 0.5821 - accuracy: 0.7025 - val_loss: 0.5799 - val_accuracy: 0.7055\n",
      "Epoch 16/100\n",
      "49644/49644 [==============================] - 125s 3ms/step - loss: 0.5799 - accuracy: 0.7056 - val_loss: 0.6269 - val_accuracy: 0.6455\n",
      "Epoch 17/100\n",
      "49644/49644 [==============================] - 125s 3ms/step - loss: 0.5800 - accuracy: 0.7036 - val_loss: 0.5848 - val_accuracy: 0.7026\n",
      "Epoch 18/100\n",
      "49644/49644 [==============================] - 127s 3ms/step - loss: 0.5806 - accuracy: 0.7044 - val_loss: 0.5796 - val_accuracy: 0.6919\n",
      "Epoch 19/100\n",
      "49644/49644 [==============================] - 123s 2ms/step - loss: 0.5807 - accuracy: 0.7040 - val_loss: 0.5764 - val_accuracy: 0.6998\n",
      "Epoch 20/100\n",
      "49644/49644 [==============================] - 128s 3ms/step - loss: 0.5807 - accuracy: 0.7033 - val_loss: 0.5743 - val_accuracy: 0.7115\n",
      "Epoch 21/100\n",
      "49644/49644 [==============================] - 130s 3ms/step - loss: 0.5814 - accuracy: 0.7025 - val_loss: 0.5742 - val_accuracy: 0.7120\n",
      "Epoch 22/100\n",
      "49644/49644 [==============================] - 139s 3ms/step - loss: 0.5799 - accuracy: 0.7044 - val_loss: 0.5984 - val_accuracy: 0.6934\n",
      "Epoch 23/100\n",
      "49644/49644 [==============================] - 158s 3ms/step - loss: 0.5793 - accuracy: 0.7028 - val_loss: 0.5736 - val_accuracy: 0.7112\n",
      "Epoch 24/100\n",
      "49644/49644 [==============================] - 138s 3ms/step - loss: 0.5800 - accuracy: 0.7023 - val_loss: 0.5919 - val_accuracy: 0.7074\n",
      "Epoch 25/100\n",
      "49644/49644 [==============================] - 136s 3ms/step - loss: 0.5793 - accuracy: 0.7059 - val_loss: 0.5767 - val_accuracy: 0.7112\n",
      "Epoch 26/100\n",
      "49644/49644 [==============================] - 127s 3ms/step - loss: 0.5792 - accuracy: 0.7054 - val_loss: 0.5741 - val_accuracy: 0.7124\n",
      "Epoch 27/100\n",
      "49644/49644 [==============================] - 143s 3ms/step - loss: 0.5788 - accuracy: 0.7060 - val_loss: 0.5760 - val_accuracy: 0.7152\n",
      "Epoch 28/100\n",
      "49644/49644 [==============================] - 144s 3ms/step - loss: 0.5784 - accuracy: 0.7049 - val_loss: 0.5804 - val_accuracy: 0.7090\n",
      "Epoch 29/100\n",
      "49644/49644 [==============================] - 144s 3ms/step - loss: 0.5799 - accuracy: 0.7054 - val_loss: 0.5796 - val_accuracy: 0.7043\n",
      "Epoch 30/100\n",
      "49644/49644 [==============================] - 141s 3ms/step - loss: 0.5784 - accuracy: 0.7064 - val_loss: 0.5886 - val_accuracy: 0.6984\n",
      "Epoch 31/100\n",
      "49644/49644 [==============================] - 153s 3ms/step - loss: 0.5778 - accuracy: 0.7074 - val_loss: 0.5758 - val_accuracy: 0.7072\n",
      "Epoch 32/100\n",
      "49644/49644 [==============================] - 131s 3ms/step - loss: 0.5792 - accuracy: 0.7037 - val_loss: 0.5835 - val_accuracy: 0.6817\n",
      "Epoch 33/100\n",
      "49644/49644 [==============================] - 137s 3ms/step - loss: 0.5774 - accuracy: 0.7057 - val_loss: 0.5725 - val_accuracy: 0.7120\n",
      "Epoch 34/100\n",
      "49644/49644 [==============================] - 138s 3ms/step - loss: 0.5771 - accuracy: 0.7061 - val_loss: 0.5923 - val_accuracy: 0.6958\n",
      "Epoch 35/100\n",
      "49644/49644 [==============================] - 145s 3ms/step - loss: 0.5777 - accuracy: 0.7066 - val_loss: 0.5768 - val_accuracy: 0.7104\n",
      "Epoch 36/100\n",
      "49644/49644 [==============================] - 147s 3ms/step - loss: 0.5754 - accuracy: 0.7070 - val_loss: 0.5728 - val_accuracy: 0.7142\n",
      "Epoch 37/100\n",
      "49644/49644 [==============================] - 140s 3ms/step - loss: 0.5773 - accuracy: 0.7079 - val_loss: 0.5767 - val_accuracy: 0.7126\n",
      "Epoch 38/100\n",
      "49644/49644 [==============================] - 137s 3ms/step - loss: 0.5768 - accuracy: 0.7068 - val_loss: 0.5743 - val_accuracy: 0.6948\n",
      "Epoch 39/100\n",
      "49644/49644 [==============================] - 137s 3ms/step - loss: 0.5765 - accuracy: 0.7058 - val_loss: 0.5706 - val_accuracy: 0.7130\n",
      "Epoch 40/100\n",
      "49644/49644 [==============================] - 104s 2ms/step - loss: 0.5767 - accuracy: 0.7067 - val_loss: 0.5861 - val_accuracy: 0.7009\n",
      "Epoch 41/100\n",
      "49644/49644 [==============================] - 96s 2ms/step - loss: 0.5764 - accuracy: 0.7068 - val_loss: 0.5730 - val_accuracy: 0.7101\n",
      "Epoch 42/100\n",
      "49644/49644 [==============================] - 91s 2ms/step - loss: 0.5761 - accuracy: 0.7070 - val_loss: 0.5757 - val_accuracy: 0.7118\n",
      "Epoch 43/100\n",
      "49644/49644 [==============================] - 107s 2ms/step - loss: 0.5752 - accuracy: 0.7088 - val_loss: 0.5832 - val_accuracy: 0.6974\n",
      "Epoch 44/100\n",
      "49644/49644 [==============================] - 116s 2ms/step - loss: 0.5761 - accuracy: 0.7086 - val_loss: 0.5734 - val_accuracy: 0.7120\n",
      "Epoch 45/100\n",
      "49644/49644 [==============================] - 102s 2ms/step - loss: 0.5780 - accuracy: 0.7057 - val_loss: 0.5732 - val_accuracy: 0.7133\n",
      "Epoch 46/100\n",
      "49644/49644 [==============================] - 92s 2ms/step - loss: 0.5759 - accuracy: 0.7085 - val_loss: 0.5760 - val_accuracy: 0.7132\n",
      "Epoch 47/100\n",
      "49644/49644 [==============================] - 87s 2ms/step - loss: 0.5755 - accuracy: 0.7103 - val_loss: 0.5727 - val_accuracy: 0.7144\n",
      "Epoch 48/100\n",
      "49644/49644 [==============================] - 87s 2ms/step - loss: 0.5763 - accuracy: 0.7066 - val_loss: 0.5769 - val_accuracy: 0.7117\n",
      "Epoch 49/100\n",
      "49644/49644 [==============================] - 86s 2ms/step - loss: 0.5761 - accuracy: 0.7074 - val_loss: 0.5722 - val_accuracy: 0.7114\n",
      "Epoch 50/100\n",
      "49644/49644 [==============================] - 86s 2ms/step - loss: 0.5762 - accuracy: 0.7085 - val_loss: 0.5701 - val_accuracy: 0.7156\n",
      "Epoch 51/100\n",
      "49644/49644 [==============================] - 88s 2ms/step - loss: 0.5761 - accuracy: 0.7069 - val_loss: 0.5762 - val_accuracy: 0.7126\n",
      "Epoch 52/100\n",
      "49644/49644 [==============================] - 86s 2ms/step - loss: 0.5753 - accuracy: 0.7088 - val_loss: 0.5785 - val_accuracy: 0.6978\n",
      "Epoch 53/100\n",
      "49644/49644 [==============================] - 86s 2ms/step - loss: 0.5760 - accuracy: 0.7088 - val_loss: 0.5746 - val_accuracy: 0.7136\n",
      "Epoch 54/100\n",
      "49644/49644 [==============================] - 87s 2ms/step - loss: 0.5757 - accuracy: 0.7081 - val_loss: 0.5824 - val_accuracy: 0.7024\n",
      "Epoch 55/100\n",
      "49644/49644 [==============================] - 89s 2ms/step - loss: 0.5752 - accuracy: 0.7079 - val_loss: 0.5726 - val_accuracy: 0.7095\n"
     ]
    },
    {
     "name": "stdout",
     "output_type": "stream",
     "text": [
      "Epoch 56/100\n",
      "49644/49644 [==============================] - 110s 2ms/step - loss: 0.5751 - accuracy: 0.7084 - val_loss: 0.5715 - val_accuracy: 0.7118\n",
      "Epoch 57/100\n",
      "49644/49644 [==============================] - 97s 2ms/step - loss: 0.5771 - accuracy: 0.7076 - val_loss: 0.5694 - val_accuracy: 0.7133\n",
      "Epoch 58/100\n",
      "49644/49644 [==============================] - 97s 2ms/step - loss: 0.5757 - accuracy: 0.7087 - val_loss: 0.5772 - val_accuracy: 0.7082\n",
      "Epoch 59/100\n",
      "49644/49644 [==============================] - 97s 2ms/step - loss: 0.5759 - accuracy: 0.7068 - val_loss: 0.5752 - val_accuracy: 0.7079\n",
      "Epoch 60/100\n",
      "49644/49644 [==============================] - 95s 2ms/step - loss: 0.5752 - accuracy: 0.7087 - val_loss: 0.5768 - val_accuracy: 0.7107\n",
      "Epoch 61/100\n",
      "49644/49644 [==============================] - 93s 2ms/step - loss: 0.5750 - accuracy: 0.7090 - val_loss: 0.5752 - val_accuracy: 0.7114\n",
      "Epoch 62/100\n",
      "49644/49644 [==============================] - 114s 2ms/step - loss: 0.5767 - accuracy: 0.7072 - val_loss: 0.5753 - val_accuracy: 0.7080\n",
      "Epoch 63/100\n",
      "49644/49644 [==============================] - 103s 2ms/step - loss: 0.5755 - accuracy: 0.7095 - val_loss: 0.5739 - val_accuracy: 0.7125\n",
      "Epoch 64/100\n",
      "49644/49644 [==============================] - 103s 2ms/step - loss: 0.5745 - accuracy: 0.7095 - val_loss: 0.5739 - val_accuracy: 0.7089\n",
      "Epoch 65/100\n",
      "49644/49644 [==============================] - 104s 2ms/step - loss: 0.5748 - accuracy: 0.7089 - val_loss: 0.5760 - val_accuracy: 0.7055\n",
      "Epoch 66/100\n",
      "49644/49644 [==============================] - 99s 2ms/step - loss: 0.5745 - accuracy: 0.7098 - val_loss: 0.5746 - val_accuracy: 0.7075\n",
      "Epoch 67/100\n",
      "49644/49644 [==============================] - 93s 2ms/step - loss: 0.5745 - accuracy: 0.7082 - val_loss: 0.5723 - val_accuracy: 0.7099\n",
      "Epoch 68/100\n",
      "49644/49644 [==============================] - 85s 2ms/step - loss: 0.5751 - accuracy: 0.7092 - val_loss: 0.5726 - val_accuracy: 0.7098\n",
      "Epoch 69/100\n",
      "49644/49644 [==============================] - 86s 2ms/step - loss: 0.5745 - accuracy: 0.7100 - val_loss: 0.5766 - val_accuracy: 0.7058\n",
      "Epoch 70/100\n",
      "49644/49644 [==============================] - 87s 2ms/step - loss: 0.5745 - accuracy: 0.7094 - val_loss: 0.5807 - val_accuracy: 0.7138\n",
      "Epoch 71/100\n",
      "49644/49644 [==============================] - 86s 2ms/step - loss: 0.5740 - accuracy: 0.7098 - val_loss: 0.5763 - val_accuracy: 0.7104\n",
      "Epoch 72/100\n",
      "49644/49644 [==============================] - 86s 2ms/step - loss: 0.5739 - accuracy: 0.7096 - val_loss: 0.5835 - val_accuracy: 0.7037\n",
      "Epoch 73/100\n",
      "49644/49644 [==============================] - 86s 2ms/step - loss: 0.5730 - accuracy: 0.7097 - val_loss: 0.5778 - val_accuracy: 0.7076\n",
      "Epoch 74/100\n",
      "49644/49644 [==============================] - 89s 2ms/step - loss: 0.5737 - accuracy: 0.7107 - val_loss: 0.5798 - val_accuracy: 0.7100\n",
      "Epoch 75/100\n",
      "49644/49644 [==============================] - 95s 2ms/step - loss: 0.5738 - accuracy: 0.7094 - val_loss: 0.5762 - val_accuracy: 0.6988\n",
      "Epoch 76/100\n",
      "49644/49644 [==============================] - 97s 2ms/step - loss: 0.5744 - accuracy: 0.7095 - val_loss: 0.5754 - val_accuracy: 0.7077\n",
      "Epoch 77/100\n",
      "49644/49644 [==============================] - 95s 2ms/step - loss: 0.5743 - accuracy: 0.7100 - val_loss: 0.5725 - val_accuracy: 0.7126\n",
      "Epoch 78/100\n",
      "49644/49644 [==============================] - 101s 2ms/step - loss: 0.5742 - accuracy: 0.7087 - val_loss: 0.5814 - val_accuracy: 0.6945\n",
      "Epoch 79/100\n",
      "49644/49644 [==============================] - 105s 2ms/step - loss: 0.5738 - accuracy: 0.7094 - val_loss: 0.5861 - val_accuracy: 0.6909\n",
      "Epoch 80/100\n",
      "49644/49644 [==============================] - 108s 2ms/step - loss: 0.5738 - accuracy: 0.7098 - val_loss: 0.5753 - val_accuracy: 0.7092\n",
      "Epoch 81/100\n",
      "49644/49644 [==============================] - 127s 3ms/step - loss: 0.5741 - accuracy: 0.7113 - val_loss: 0.5753 - val_accuracy: 0.7097\n",
      "Epoch 82/100\n",
      "49644/49644 [==============================] - 117s 2ms/step - loss: 0.5730 - accuracy: 0.7109 - val_loss: 0.5730 - val_accuracy: 0.7136\n",
      "Epoch 83/100\n",
      "49644/49644 [==============================] - 102s 2ms/step - loss: 0.5740 - accuracy: 0.7098 - val_loss: 0.5731 - val_accuracy: 0.7104\n",
      "Epoch 84/100\n",
      "49644/49644 [==============================] - 94s 2ms/step - loss: 0.5733 - accuracy: 0.7098 - val_loss: 0.5706 - val_accuracy: 0.7145\n",
      "Epoch 85/100\n",
      "49644/49644 [==============================] - 93s 2ms/step - loss: 0.5732 - accuracy: 0.7098 - val_loss: 0.5714 - val_accuracy: 0.7134\n",
      "Epoch 86/100\n",
      "49644/49644 [==============================] - 87s 2ms/step - loss: 0.5743 - accuracy: 0.7107 - val_loss: 0.5727 - val_accuracy: 0.7139\n",
      "Epoch 87/100\n",
      "49644/49644 [==============================] - 87s 2ms/step - loss: 0.5731 - accuracy: 0.7112 - val_loss: 0.5745 - val_accuracy: 0.7136\n",
      "Epoch 88/100\n",
      "49644/49644 [==============================] - 95s 2ms/step - loss: 0.5733 - accuracy: 0.7109 - val_loss: 0.5742 - val_accuracy: 0.7084\n",
      "Epoch 89/100\n",
      "49644/49644 [==============================] - 99s 2ms/step - loss: 0.5732 - accuracy: 0.7108 - val_loss: 0.5779 - val_accuracy: 0.7127\n",
      "Epoch 90/100\n",
      "49644/49644 [==============================] - 99s 2ms/step - loss: 0.5737 - accuracy: 0.7095 - val_loss: 0.5718 - val_accuracy: 0.7162\n",
      "Epoch 91/100\n",
      "49644/49644 [==============================] - 98s 2ms/step - loss: 0.5733 - accuracy: 0.7090 - val_loss: 0.5732 - val_accuracy: 0.7132\n",
      "Epoch 92/100\n",
      "49644/49644 [==============================] - 98s 2ms/step - loss: 0.5735 - accuracy: 0.7101 - val_loss: 0.5750 - val_accuracy: 0.7141\n",
      "Epoch 93/100\n",
      "49644/49644 [==============================] - 96s 2ms/step - loss: 0.5728 - accuracy: 0.7100 - val_loss: 0.5746 - val_accuracy: 0.7103\n",
      "Epoch 94/100\n",
      "49644/49644 [==============================] - 98s 2ms/step - loss: 0.5734 - accuracy: 0.7103 - val_loss: 0.5865 - val_accuracy: 0.7089\n",
      "Epoch 95/100\n",
      "49644/49644 [==============================] - 97s 2ms/step - loss: 0.5736 - accuracy: 0.7102 - val_loss: 0.5685 - val_accuracy: 0.7147\n",
      "Epoch 96/100\n",
      "49644/49644 [==============================] - 98s 2ms/step - loss: 0.5737 - accuracy: 0.7104 - val_loss: 0.5753 - val_accuracy: 0.7112\n",
      "Epoch 97/100\n",
      "49644/49644 [==============================] - 97s 2ms/step - loss: 0.5735 - accuracy: 0.7105 - val_loss: 0.5757 - val_accuracy: 0.7104\n",
      "Epoch 98/100\n",
      "49644/49644 [==============================] - 96s 2ms/step - loss: 0.5734 - accuracy: 0.7097 - val_loss: 0.5736 - val_accuracy: 0.7140\n",
      "Epoch 99/100\n",
      "49644/49644 [==============================] - 98s 2ms/step - loss: 0.5740 - accuracy: 0.7092 - val_loss: 0.5760 - val_accuracy: 0.7118\n",
      "Epoch 100/100\n",
      "49644/49644 [==============================] - 104s 2ms/step - loss: 0.5734 - accuracy: 0.7106 - val_loss: 0.5926 - val_accuracy: 0.6693\n"
     ]
    }
   ],
   "source": [
    "history = classifier.fit(x_train1, y_train1, batch_size = 1, epochs = 100,  validation_data=(x_test1, y_test1))\n"
   ]
  },
  {
   "cell_type": "markdown",
   "id": "8441cdbb",
   "metadata": {},
   "source": [
    "Model Accuracy"
   ]
  },
  {
   "cell_type": "code",
   "execution_count": 34,
   "id": "4eb87e89",
   "metadata": {},
   "outputs": [
    {
     "data": {
      "image/png": "[encoded data removed]",
      "text/plain": [
       "<Figure size 640x480 with 1 Axes>"
      ]
     },
     "metadata": {},
     "output_type": "display_data"
    }
   ],
   "source": [
    "plt.plot(history.history['accuracy'], label='acc')\n",
    "plt.plot(history.history['val_accuracy'], label='val_acc')\n",
    "plt.title('model accuracy')\n",
    "plt.ylabel('accuracy')\n",
    "plt.xlabel('epoch')\n",
    "plt.legend(['train', 'test'], loc='upper left')\n",
    "plt.show()"
   ]
  },
  {
   "cell_type": "markdown",
   "id": "b81d4eec",
   "metadata": {},
   "source": [
    "Model loss"
   ]
  },
  {
   "cell_type": "code",
   "execution_count": 35,
   "id": "91926cb9",
   "metadata": {},
   "outputs": [
    {
     "data": {
      "image/png": "[encoded data removed]",
      "text/plain": [
       "<Figure size 640x480 with 1 Axes>"
      ]
     },
     "metadata": {},
     "output_type": "display_data"
    }
   ],
   "source": [
    "plt.plot(history.history['loss'])\n",
    "plt.plot(history.history['val_loss'])\n",
    "plt.title('model loss')\n",
    "plt.ylabel('loss')\n",
    "plt.xlabel('epoch')\n",
    "plt.legend(['train', 'test'], loc='upper left')\n",
    "plt.show()"
   ]
  },
  {
   "cell_type": "markdown",
   "id": "202f0641",
   "metadata": {},
   "source": [
    "### Testing the prediction by slotting in test dataset to determine accuracy of model"
   ]
  },
  {
   "cell_type": "code",
   "execution_count": 42,
   "id": "dddce51a",
   "metadata": {},
   "outputs": [
    {
     "name": "stdout",
     "output_type": "stream",
     "text": [
      "518/518 [==============================] - 1s 1ms/step\n",
      "The accuracy of the graph is 66.9285\n"
     ]
    }
   ],
   "source": [
    "prediction = classifier.predict(x_test1) > 0.5\n",
    "prediction = (prediction > 0.5) * 1\n",
    "accuracy_nn = round(metrics.accuracy_score(y_test1, prediction) * 100, 4)\n",
    "\n",
    "#accuracy_nn = round(metrics.accuracy_score(y_test1, prediction) * 100, 2)\n",
    "print(\"The accuracy of the graph is \" + str(accuracy_nn))"
   ]
  },
  {
   "cell_type": "markdown",
   "id": "cf19e603",
   "metadata": {},
   "source": [
    "### Checking how well the model fit visually "
   ]
  },
  {
   "cell_type": "code",
   "execution_count": 38,
   "id": "4a37a9c2",
   "metadata": {},
   "outputs": [
    {
     "name": "stdout",
     "output_type": "stream",
     "text": [
      "518/518 [==============================] - 1s 1ms/step\n"
     ]
    },
    {
     "name": "stderr",
     "output_type": "stream",
     "text": [
      "C:\\Users\\ryanc\\AppData\\Local\\Temp\\ipykernel_5920\\2779596355.py:10: UserWarning: \n",
      "\n",
      "`distplot` is a deprecated function and will be removed in seaborn v0.14.0.\n",
      "\n",
      "Please adapt your code to use either `displot` (a figure-level function with\n",
      "similar flexibility) or `histplot` (an axes-level function for histograms).\n",
      "\n",
      "For a guide to updating your code to use the new functions, please see\n",
      "https://gist.github.com/mwaskom/de44147ed2974457ad6372750bbe5751\n",
      "\n",
      "  sb.distplot(resdf[\"Probability\"],  color=\"red\")\n"
     ]
    },
    {
     "data": {
      "text/plain": [
       "<AxesSubplot: xlabel='Probability', ylabel='Density'>"
      ]
     },
     "execution_count": 38,
     "metadata": {},
     "output_type": "execute_result"
    },
    {
     "data": {
      "image/png": "[encoded data removed]",
      "text/plain": [
       "<Figure size 640x480 with 1 Axes>"
      ]
     },
     "metadata": {},
     "output_type": "display_data"
    }
   ],
   "source": [
    "#PROBABILITY DENSITY ESTIMATION\n",
    "\n",
    "#https://machinelearningmastery.com/probability-density-estimation/\n",
    "\n",
    "res=classifier.predict(x_test1)\n",
    "resdf=pd.DataFrame(res, index=x_test1.index)\n",
    "resdf.columns=[\"Probability\"]\n",
    "resdf[\"ID\"]=range(16549)\n",
    "resdf[\"y\"]=np.where(resdf[\"Probability\"]>=0.5,\"1\", \"0\")\n",
    "sb.distplot(resdf[\"Probability\"],  color=\"red\")"
   ]
  },
  {
   "cell_type": "markdown",
   "id": "adf71571",
   "metadata": {
    "scrolled": true
   },
   "source": [
    "### Predicting a Single Case"
   ]
  },
  {
   "cell_type": "code",
   "execution_count": 39,
   "id": "8d70962f",
   "metadata": {},
   "outputs": [],
   "source": [
    "day= 3 # day of bith \n",
    "month= 4 # month of bith (in numbers)\n",
    "year= 2001 # year of bith\n",
    "\n",
    "gender1= 1 # 0 for women, 1 for men\n",
    "height1= 175 # in cm\n",
    "weight1= 65 # in kilograms\n",
    "ap_hi1= 110 # Systolic blood pressure\n",
    "ap_lo1= 75 # Diastolic blood pressure\n",
    "cholesterol1= 1 # 1: normal, 2: above normal, 3: well above normal\n",
    "gluc1= 1 # 1: normal, 2: above normal, 3: well above normal\n",
    "smoke1= 0 # 1 if you smoke, 0 if not\n",
    "alco1= 0 # 1 if you drink alcohol, 0 if not\n",
    "active1= 1 # 1 if you do physical activity, 0 if not\n"
   ]
  },
  {
   "cell_type": "code",
   "execution_count": 40,
   "id": "afc6338c",
   "metadata": {},
   "outputs": [
    {
     "data": {
      "text/html": [
       "<div>\n",
       "<style scoped>\n",
       "    .dataframe tbody tr th:only-of-type {\n",
       "        vertical-align: middle;\n",
       "    }\n",
       "\n",
       "    .dataframe tbody tr th {\n",
       "        vertical-align: top;\n",
       "    }\n",
       "\n",
       "    .dataframe thead th {\n",
       "        text-align: right;\n",
       "    }\n",
       "</style>\n",
       "<table border=\"1\" class=\"dataframe\">\n",
       "  <thead>\n",
       "    <tr style=\"text-align: right;\">\n",
       "      <th></th>\n",
       "      <th>0</th>\n",
       "      <th>1</th>\n",
       "      <th>2</th>\n",
       "      <th>3</th>\n",
       "      <th>4</th>\n",
       "      <th>5</th>\n",
       "      <th>6</th>\n",
       "      <th>7</th>\n",
       "      <th>8</th>\n",
       "      <th>9</th>\n",
       "      <th>10</th>\n",
       "    </tr>\n",
       "  </thead>\n",
       "  <tbody>\n",
       "    <tr>\n",
       "      <th>0</th>\n",
       "      <td>22</td>\n",
       "      <td>1</td>\n",
       "      <td>175</td>\n",
       "      <td>65</td>\n",
       "      <td>110</td>\n",
       "      <td>75</td>\n",
       "      <td>1</td>\n",
       "      <td>1</td>\n",
       "      <td>0</td>\n",
       "      <td>0</td>\n",
       "      <td>1</td>\n",
       "    </tr>\n",
       "  </tbody>\n",
       "</table>\n",
       "</div>"
      ],
      "text/plain": [
       "   0   1    2   3    4   5   6   7   8   9   10\n",
       "0  22   1  175  65  110  75   1   1   0   0   1"
      ]
     },
     "execution_count": 40,
     "metadata": {},
     "output_type": "execute_result"
    }
   ],
   "source": [
    "#current age in days\n",
    "\n",
    "from datetime import date\n",
    "\n",
    "date_f= date(year, month, day)\n",
    "date_i = date.today()\n",
    "age = int((date_i - date_f).days/365)\n",
    "\n",
    "single = np.array([age, gender1, height1, weight1, ap_hi1, ap_lo1, cholesterol1, gluc1, \n",
    "                   smoke1, alco1, active1])\n",
    "\n",
    "single1 = pd.DataFrame(single)\n",
    "final = single1.transpose()\n",
    "final.head()"
   ]
  },
  {
   "cell_type": "code",
   "execution_count": 41,
   "id": "c4025110",
   "metadata": {
    "scrolled": true
   },
   "outputs": [
    {
     "name": "stdout",
     "output_type": "stream",
     "text": [
      "1/1 [==============================] - 0s 80ms/step\n",
      "The probability of having a Cardiovascular Disease is: 14.39%\n"
     ]
    }
   ],
   "source": [
    "finalres=classifier.predict(final)\n",
    "\n",
    "print(\"The probability of having a Cardiovascular Disease is: \"+ str(round(finalres[0,0]*100,2)) + \"%\")"
   ]
  },
  {
   "cell_type": "code",
   "execution_count": null,
   "id": "a1354432",
   "metadata": {},
   "outputs": [],
   "source": []
  }
 ],
 "metadata": {
  "kernelspec": {
   "display_name": "Python 3 (ipykernel)",
   "language": "python",
   "name": "python3"
  },
  "language_info": {
   "codemirror_mode": {
    "name": "ipython",
    "version": 3
   },
   "file_extension": ".py",
   "mimetype": "text/x-python",
   "name": "python",
   "nbconvert_exporter": "python",
   "pygments_lexer": "ipython3",
   "version": "3.10.9"
  }
 },
 "nbformat": 4,
 "nbformat_minor": 5
}
